{
 "cells": [
  {
   "cell_type": "code",
   "execution_count": 1,
   "metadata": {},
   "outputs": [],
   "source": [
    "x_data=[339,333,328,207,226,25,179,60,208,606]\n",
    "y_data=[640,633,619,393,428,27,193,66,226,1591]"
   ]
  },
  {
   "cell_type": "code",
   "execution_count": 2,
   "metadata": {},
   "outputs": [],
   "source": [
    "import pandas as np\n",
    "import numpy as np\n",
    "import matplotlib.pyplot as plt"
   ]
  },
  {
   "cell_type": "code",
   "execution_count": 116,
   "metadata": {},
   "outputs": [],
   "source": [
    "#這裡表示是一個column一個column填\n",
    "x=np.arange(-200.,-100.,1)\n",
    "y=np.arange(-5.,5.,0.1)\n",
    "xx,yy=np.meshgrid(x,y)\n",
    "z=np.zeros((len(x),len(y)))\n",
    "for i in range(len(x)):\n",
    "    for j in range(len(y)):\n",
    "        b=x[i]\n",
    "        w=y[j]\n",
    "        z[j][i]=0\n",
    "        for n in range(len(x_data)):\n",
    "            z[j][i]=z[j][i]+(y_data[n]-b-w*x_data[n])**2\n",
    "        z[j][i]=z[j][i]/len(x_data)"
   ]
  },
  {
   "cell_type": "code",
   "execution_count": 117,
   "metadata": {},
   "outputs": [
    {
     "data": {
      "text/plain": [
       "array([[5194825.9       , 5190952.7       , 5187081.5       , ...,\n",
       "        4828437.5       , 4824758.3       , 4821081.1       ],\n",
       "       [5061063.565     , 5057240.585     , 5053419.605     , ...,\n",
       "        4699546.505     , 4695917.525     , 4692290.545     ],\n",
       "       [4929049.4       , 4925276.64      , 4921505.88      , ...,\n",
       "        4572403.68      , 4568824.92      , 4565248.16      ],\n",
       "       ...,\n",
       "       [ 359358.92499999,  360357.06499999,  361357.20499999, ...,\n",
       "         465490.50499999,  466682.64499999,  467876.78499999],\n",
       "       [ 395169.07999999,  396217.43999999,  397267.79999999, ...,\n",
       "         506171.99999999,  507414.35999999,  508658.71999999],\n",
       "       [ 432727.40499999,  433825.98499999,  434926.56499999, ...,\n",
       "         548601.66499998,  549894.24499998,  551188.82499998]])"
      ]
     },
     "execution_count": 117,
     "metadata": {},
     "output_type": "execute_result"
    }
   ],
   "source": [
    "z"
   ]
  },
  {
   "cell_type": "code",
   "execution_count": 102,
   "metadata": {},
   "outputs": [],
   "source": [
    "b=-120.\n",
    "w=-4.\n",
    "lr=1\n",
    "iteration=100000\n",
    "\n",
    "b_history=[b]\n",
    "w_history=[w]\n",
    "lr_b=0\n",
    "lr_w=0\n",
    "for k in range(iteration):\n",
    "    b_grad = 0\n",
    "    w_grad = 0\n",
    "    for n in range(len(x_data)):\n",
    "        b_grad=b_grad-2*(y_data[n]-b-w*x_data[n])*1\n",
    "        w_grad=w_grad-2*(y_data[n]-b-w*x_data[n])*x_data[n]\n",
    "    \n",
    "    lr_b=lr_b+b_grad**2\n",
    "    lr_w=lr_w+w_grad**2\n",
    "    b=b-lr/np.sqrt(lr_b)*b_grad\n",
    "    w=w-lr/np.sqrt(lr_w)*w_grad\n",
    "    b_history.append(b)\n",
    "    w_history.append(w)"
   ]
  },
  {
   "cell_type": "code",
   "execution_count": 106,
   "metadata": {},
   "outputs": [
    {
     "data": {
      "image/png": "[encoded data removed]",
      "text/plain": [
       "<Figure size 432x288 with 1 Axes>"
      ]
     },
     "metadata": {},
     "output_type": "display_data"
    }
   ],
   "source": [
    "plt.contourf(xx,yy,z,50)\n",
    "plt.plot([-188.4],[2.67],'x',ms=12,color='orange')\n",
    "plt.scatter(b_history,w_history)\n",
    "plt.axis([-200,-100,-5,5])\n",
    "plt.show()"
   ]
  },
  {
   "cell_type": "code",
   "execution_count": null,
   "metadata": {},
   "outputs": [],
   "source": []
  }
 ],
 "metadata": {
  "hide_input": false,
  "kernelspec": {
   "display_name": "Python 3",
   "language": "python",
   "name": "python3"
  },
  "language_info": {
   "codemirror_mode": {
    "name": "ipython",
    "version": 3
   },
   "file_extension": ".py",
   "mimetype": "text/x-python",
   "name": "python",
   "nbconvert_exporter": "python",
   "pygments_lexer": "ipython3",
   "version": "3.7.1"
  },
  "toc": {
   "base_numbering": 1,
   "nav_menu": {},
   "number_sections": true,
   "sideBar": true,
   "skip_h1_title": false,
   "title_cell": "Table of Contents",
   "title_sidebar": "Contents",
   "toc_cell": false,
   "toc_position": {},
   "toc_section_display": true,
   "toc_window_display": false
  },
  "varInspector": {
   "cols": {
    "lenName": 16,
    "lenType": 16,
    "lenVar": 40
   },
   "kernels_config": {
    "python": {
     "delete_cmd_postfix": "",
     "delete_cmd_prefix": "del ",
     "library": "var_list.py",
     "varRefreshCmd": "print(var_dic_list())"
    },
    "r": {
     "delete_cmd_postfix": ") ",
     "delete_cmd_prefix": "rm(",
     "library": "var_list.r",
     "varRefreshCmd": "cat(var_dic_list()) "
    }
   },
   "types_to_exclude": [
    "module",
    "function",
    "builtin_function_or_method",
    "instance",
    "_Feature"
   ],
   "window_display": false
  }
 },
 "nbformat": 4,
 "nbformat_minor": 2
}
