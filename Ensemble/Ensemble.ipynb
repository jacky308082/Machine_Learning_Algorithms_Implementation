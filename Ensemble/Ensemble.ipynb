{
 "cells": [
  {
   "cell_type": "code",
   "execution_count": 28,
   "metadata": {},
   "outputs": [],
   "source": [
    "from sklearn.ensemble import RandomForestClassifier\n",
    "from sklearn.ensemble import VotingClassifier\n",
    "from sklearn.linear_model import LogisticRegression\n",
    "from sklearn.svm import SVC"
   ]
  },
  {
   "cell_type": "code",
   "execution_count": 29,
   "metadata": {},
   "outputs": [],
   "source": [
    "from sklearn.model_selection import train_test_split\n",
    "from sklearn.datasets import make_moons\n",
    "\n",
    "X, y = make_moons(n_samples=500, noise=0.30, random_state=42)\n",
    "X_train, X_test, y_train, y_test = train_test_split(X, y, random_state=42)"
   ]
  },
  {
   "cell_type": "code",
   "execution_count": 30,
   "metadata": {},
   "outputs": [],
   "source": [
    "log_clf=LogisticRegression(random_state=42)\n",
    "rnd_clf=RandomForestClassifier(random_state=42)\n",
    "svm_clf=SVC(random_state=42)"
   ]
  },
  {
   "cell_type": "code",
   "execution_count": 31,
   "metadata": {},
   "outputs": [
    {
     "data": {
      "text/plain": [
       "VotingClassifier(estimators=[('lr', LogisticRegression(C=1.0, class_weight=None, dual=False, fit_intercept=True,\n",
       "          intercept_scaling=1, max_iter=100, multi_class='ovr', n_jobs=1,\n",
       "          penalty='l2', random_state=42, solver='liblinear', tol=0.0001,\n",
       "          verbose=0, warm_start=False)), ('rf', RandomFor...f',\n",
       "  max_iter=-1, probability=False, random_state=42, shrinking=True,\n",
       "  tol=0.001, verbose=False))],\n",
       "         flatten_transform=None, n_jobs=1, voting='hard', weights=None)"
      ]
     },
     "execution_count": 31,
     "metadata": {},
     "output_type": "execute_result"
    }
   ],
   "source": [
    "voting_clf=VotingClassifier(\n",
    "                estimators=[('lr',log_clf),('rf',rnd_clf),('svc',svm_clf)],\n",
    "                voting='hard')\n",
    "voting_clf.fit(X_train,y_train)"
   ]
  },
  {
   "cell_type": "code",
   "execution_count": 32,
   "metadata": {},
   "outputs": [
    {
     "name": "stdout",
     "output_type": "stream",
     "text": [
      "LogisticRegression 0.864\n",
      "RandomForestClassifier 0.872\n",
      "SVC 0.888\n",
      "VotingClassifier 0.896\n"
     ]
    },
    {
     "name": "stderr",
     "output_type": "stream",
     "text": [
      "/Users/jacky/anaconda3/lib/python3.6/site-packages/sklearn/preprocessing/label.py:151: DeprecationWarning: The truth value of an empty array is ambiguous. Returning False, but in future this will result in an error. Use `array.size > 0` to check that an array is not empty.\n",
      "  if diff:\n"
     ]
    }
   ],
   "source": [
    "from sklearn.metrics import accuracy_score\n",
    "for clf in (log_clf,rnd_clf,svm_clf,voting_clf):\n",
    "    clf.fit(X_train,y_train)\n",
    "    y_pred=clf.predict(X_test)\n",
    "    print(clf.__class__.__name__,accuracy_score(y_test,y_pred))"
   ]
  },
  {
   "cell_type": "code",
   "execution_count": 33,
   "metadata": {},
   "outputs": [
    {
     "data": {
      "text/plain": [
       "VotingClassifier(estimators=[('lr', LogisticRegression(C=1.0, class_weight=None, dual=False, fit_intercept=True,\n",
       "          intercept_scaling=1, max_iter=100, multi_class='ovr', n_jobs=1,\n",
       "          penalty='l2', random_state=42, solver='liblinear', tol=0.0001,\n",
       "          verbose=0, warm_start=False)), ('rf', RandomFor...bf',\n",
       "  max_iter=-1, probability=True, random_state=42, shrinking=True,\n",
       "  tol=0.001, verbose=False))],\n",
       "         flatten_transform=None, n_jobs=1, voting='soft', weights=None)"
      ]
     },
     "execution_count": 33,
     "metadata": {},
     "output_type": "execute_result"
    }
   ],
   "source": [
    "log_clf_soft=LogisticRegression(random_state=42)\n",
    "rnd_clf_soft=RandomForestClassifier(random_state=42)\n",
    "svm_clf_soft=SVC(probability=True,random_state=42)\n",
    "voting_clf_soft=VotingClassifier(\n",
    "                estimators=[('lr',log_clf_soft),('rf',rnd_clf_soft),('svc',svm_clf_soft)],\n",
    "                voting='soft')\n",
    "voting_clf_soft.fit(X_train,y_train)"
   ]
  },
  {
   "cell_type": "code",
   "execution_count": 34,
   "metadata": {},
   "outputs": [
    {
     "name": "stdout",
     "output_type": "stream",
     "text": [
      "LogisticRegression 0.864\n",
      "RandomForestClassifier 0.872\n",
      "SVC 0.888\n",
      "VotingClassifier 0.912\n"
     ]
    },
    {
     "name": "stderr",
     "output_type": "stream",
     "text": [
      "/Users/jacky/anaconda3/lib/python3.6/site-packages/sklearn/preprocessing/label.py:151: DeprecationWarning: The truth value of an empty array is ambiguous. Returning False, but in future this will result in an error. Use `array.size > 0` to check that an array is not empty.\n",
      "  if diff:\n"
     ]
    }
   ],
   "source": [
    "for clf in (log_clf_soft,rnd_clf_soft,svm_clf_soft,voting_clf_soft):\n",
    "    clf.fit(X_train,y_train)\n",
    "    y_pred=clf.predict(X_test)\n",
    "    print(clf.__class__.__name__,accuracy_score(y_test,y_pred))"
   ]
  },
  {
   "cell_type": "code",
   "execution_count": 35,
   "metadata": {},
   "outputs": [],
   "source": [
    "from sklearn.ensemble import BaggingClassifier\n",
    "from sklearn.tree import DecisionTreeClassifier"
   ]
  },
  {
   "cell_type": "code",
   "execution_count": 36,
   "metadata": {},
   "outputs": [],
   "source": [
    "bag_clf=BaggingClassifier(\n",
    "            DecisionTreeClassifier(),n_estimators=500,\n",
    "            max_samples=100,bootstrap=True,n_jobs=-1)\n",
    "bag_clf.fit(X_train,y_train)\n",
    "y_pred=bag_clf.predict(X_test)"
   ]
  },
  {
   "cell_type": "code",
   "execution_count": 37,
   "metadata": {},
   "outputs": [],
   "source": [
    "make_moons??"
   ]
  },
  {
   "cell_type": "code",
   "execution_count": 38,
   "metadata": {},
   "outputs": [],
   "source": [
    "BaggingClassifier??"
   ]
  },
  {
   "cell_type": "code",
   "execution_count": 39,
   "metadata": {},
   "outputs": [],
   "source": [
    "bag_clf=BaggingClassifier(\n",
    "            DecisionTreeClassifier(),n_estimators=500,\n",
    "            bootstrap=True,n_jobs=-1,oob_score=True)"
   ]
  },
  {
   "cell_type": "code",
   "execution_count": 40,
   "metadata": {},
   "outputs": [
    {
     "data": {
      "text/plain": [
       "0.896"
      ]
     },
     "execution_count": 40,
     "metadata": {},
     "output_type": "execute_result"
    }
   ],
   "source": [
    "bag_clf.fit(X_train,y_train)\n",
    "bag_clf.oob_score_"
   ]
  },
  {
   "cell_type": "code",
   "execution_count": 41,
   "metadata": {},
   "outputs": [
    {
     "data": {
      "text/plain": [
       "0.896"
      ]
     },
     "execution_count": 41,
     "metadata": {},
     "output_type": "execute_result"
    }
   ],
   "source": [
    "y_pred=bag_clf.predict(X_test)\n",
    "accuracy_score(y_test,y_pred)"
   ]
  },
  {
   "cell_type": "code",
   "execution_count": 42,
   "metadata": {},
   "outputs": [
    {
     "data": {
      "text/plain": [
       "array([[0.32022472, 0.67977528],\n",
       "       [0.36312849, 0.63687151],\n",
       "       [1.        , 0.        ],\n",
       "       [0.        , 1.        ],\n",
       "       [0.        , 1.        ],\n",
       "       [0.05729167, 0.94270833],\n",
       "       [0.36649215, 0.63350785],\n",
       "       [0.        , 1.        ],\n",
       "       [0.99479167, 0.00520833],\n",
       "       [0.96354167, 0.03645833],\n",
       "       [0.79891304, 0.20108696],\n",
       "       [0.        , 1.        ],\n",
       "       [0.74594595, 0.25405405],\n",
       "       [0.77456647, 0.22543353],\n",
       "       [0.94117647, 0.05882353],\n",
       "       [0.03723404, 0.96276596],\n",
       "       [0.        , 1.        ],\n",
       "       [0.99479167, 0.00520833],\n",
       "       [0.91935484, 0.08064516],\n",
       "       [0.99465241, 0.00534759],\n",
       "       [0.015     , 0.985     ],\n",
       "       [0.36410256, 0.63589744],\n",
       "       [0.91709845, 0.08290155],\n",
       "       [1.        , 0.        ],\n",
       "       [0.9742268 , 0.0257732 ],\n",
       "       [0.        , 1.        ],\n",
       "       [0.99441341, 0.00558659],\n",
       "       [1.        , 0.        ],\n",
       "       [0.        , 1.        ],\n",
       "       [0.61325967, 0.38674033],\n",
       "       [0.        , 1.        ],\n",
       "       [1.        , 0.        ],\n",
       "       [0.        , 1.        ],\n",
       "       [0.        , 1.        ],\n",
       "       [0.12169312, 0.87830688],\n",
       "       [1.        , 0.        ],\n",
       "       [0.        , 1.        ],\n",
       "       [0.38505747, 0.61494253],\n",
       "       [0.        , 1.        ],\n",
       "       [1.        , 0.        ],\n",
       "       [0.1865285 , 0.8134715 ],\n",
       "       [0.31818182, 0.68181818],\n",
       "       [1.        , 0.        ],\n",
       "       [1.        , 0.        ],\n",
       "       [0.        , 1.        ],\n",
       "       [1.        , 0.        ],\n",
       "       [1.        , 0.        ],\n",
       "       [0.02808989, 0.97191011],\n",
       "       [1.        , 0.        ],\n",
       "       [0.00531915, 0.99468085],\n",
       "       [0.99425287, 0.00574713],\n",
       "       [0.92896175, 0.07103825],\n",
       "       [0.96491228, 0.03508772],\n",
       "       [0.97727273, 0.02272727],\n",
       "       [0.00505051, 0.99494949],\n",
       "       [0.06818182, 0.93181818],\n",
       "       [0.98445596, 0.01554404],\n",
       "       [0.00552486, 0.99447514],\n",
       "       [0.        , 1.        ],\n",
       "       [0.00526316, 0.99473684],\n",
       "       [0.98235294, 0.01764706],\n",
       "       [0.77956989, 0.22043011],\n",
       "       [0.38693467, 0.61306533],\n",
       "       [1.        , 0.        ],\n",
       "       [0.        , 1.        ],\n",
       "       [0.68686869, 0.31313131],\n",
       "       [1.        , 0.        ],\n",
       "       [1.        , 0.        ],\n",
       "       [0.84656085, 0.15343915],\n",
       "       [1.        , 0.        ],\n",
       "       [0.64480874, 0.35519126],\n",
       "       [0.11299435, 0.88700565],\n",
       "       [0.57923497, 0.42076503],\n",
       "       [0.89142857, 0.10857143],\n",
       "       [0.        , 1.        ],\n",
       "       [0.17708333, 0.82291667],\n",
       "       [0.95959596, 0.04040404],\n",
       "       [1.        , 0.        ],\n",
       "       [0.        , 1.        ],\n",
       "       [0.99502488, 0.00497512],\n",
       "       [0.        , 1.        ],\n",
       "       [0.04395604, 0.95604396],\n",
       "       [0.06486486, 0.93513514],\n",
       "       [0.28205128, 0.71794872],\n",
       "       [1.        , 0.        ],\n",
       "       [0.        , 1.        ],\n",
       "       [0.83333333, 0.16666667],\n",
       "       [0.01183432, 0.98816568],\n",
       "       [0.        , 1.        ],\n",
       "       [0.        , 1.        ],\n",
       "       [0.23563218, 0.76436782],\n",
       "       [1.        , 0.        ],\n",
       "       [0.        , 1.        ],\n",
       "       [0.        , 1.        ],\n",
       "       [0.        , 1.        ],\n",
       "       [0.91907514, 0.08092486],\n",
       "       [0.81318681, 0.18681319],\n",
       "       [0.00598802, 0.99401198],\n",
       "       [1.        , 0.        ],\n",
       "       [0.23737374, 0.76262626],\n",
       "       [0.61363636, 0.38636364],\n",
       "       [0.        , 1.        ],\n",
       "       [0.04864865, 0.95135135],\n",
       "       [0.48351648, 0.51648352],\n",
       "       [1.        , 0.        ],\n",
       "       [0.01538462, 0.98461538],\n",
       "       [0.99435028, 0.00564972],\n",
       "       [0.30898876, 0.69101124],\n",
       "       [0.53157895, 0.46842105],\n",
       "       [1.        , 0.        ],\n",
       "       [0.00574713, 0.99425287],\n",
       "       [0.98285714, 0.01714286],\n",
       "       [0.26732673, 0.73267327],\n",
       "       [0.88359788, 0.11640212],\n",
       "       [1.        , 0.        ],\n",
       "       [1.        , 0.        ],\n",
       "       [0.        , 1.        ],\n",
       "       [0.        , 1.        ],\n",
       "       [0.75531915, 0.24468085],\n",
       "       [1.        , 0.        ],\n",
       "       [0.01219512, 0.98780488],\n",
       "       [1.        , 0.        ],\n",
       "       [1.        , 0.        ],\n",
       "       [1.        , 0.        ],\n",
       "       [0.97860963, 0.02139037],\n",
       "       [1.        , 0.        ],\n",
       "       [0.01081081, 0.98918919],\n",
       "       [0.96236559, 0.03763441],\n",
       "       [1.        , 0.        ],\n",
       "       [0.01136364, 0.98863636],\n",
       "       [0.21546961, 0.78453039],\n",
       "       [0.93650794, 0.06349206],\n",
       "       [0.21164021, 0.78835979],\n",
       "       [0.98734177, 0.01265823],\n",
       "       [0.        , 1.        ],\n",
       "       [0.00531915, 0.99468085],\n",
       "       [0.73837209, 0.26162791],\n",
       "       [0.32369942, 0.67630058],\n",
       "       [0.36945813, 0.63054187],\n",
       "       [0.84864865, 0.15135135],\n",
       "       [0.95092025, 0.04907975],\n",
       "       [0.04191617, 0.95808383],\n",
       "       [0.78142077, 0.21857923],\n",
       "       [0.02020202, 0.97979798],\n",
       "       [0.        , 1.        ],\n",
       "       [0.01764706, 0.98235294],\n",
       "       [0.9702381 , 0.0297619 ],\n",
       "       [1.        , 0.        ],\n",
       "       [1.        , 0.        ],\n",
       "       [0.01      , 0.99      ],\n",
       "       [0.        , 1.        ],\n",
       "       [0.01197605, 0.98802395],\n",
       "       [0.        , 1.        ],\n",
       "       [1.        , 0.        ],\n",
       "       [1.        , 0.        ],\n",
       "       [0.92134831, 0.07865169],\n",
       "       [1.        , 0.        ],\n",
       "       [1.        , 0.        ],\n",
       "       [1.        , 0.        ],\n",
       "       [0.        , 1.        ],\n",
       "       [0.43902439, 0.56097561],\n",
       "       [0.34705882, 0.65294118],\n",
       "       [0.        , 1.        ],\n",
       "       [0.        , 1.        ],\n",
       "       [0.29545455, 0.70454545],\n",
       "       [1.        , 0.        ],\n",
       "       [1.        , 0.        ],\n",
       "       [0.        , 1.        ],\n",
       "       [1.        , 0.        ],\n",
       "       [0.        , 1.        ],\n",
       "       [0.        , 1.        ],\n",
       "       [0.99497487, 0.00502513],\n",
       "       [0.        , 1.        ],\n",
       "       [0.        , 1.        ],\n",
       "       [1.        , 0.        ],\n",
       "       [0.00526316, 0.99473684],\n",
       "       [0.65217391, 0.34782609],\n",
       "       [0.90640394, 0.09359606],\n",
       "       [0.        , 1.        ],\n",
       "       [1.        , 0.        ],\n",
       "       [0.99453552, 0.00546448],\n",
       "       [1.        , 0.        ],\n",
       "       [0.00588235, 0.99411765],\n",
       "       [0.        , 1.        ],\n",
       "       [1.        , 0.        ],\n",
       "       [0.08791209, 0.91208791],\n",
       "       [1.        , 0.        ],\n",
       "       [0.02409639, 0.97590361],\n",
       "       [0.        , 1.        ],\n",
       "       [1.        , 0.        ],\n",
       "       [0.        , 1.        ],\n",
       "       [0.0625    , 0.9375    ],\n",
       "       [1.        , 0.        ],\n",
       "       [0.9112426 , 0.0887574 ],\n",
       "       [0.71354167, 0.28645833],\n",
       "       [0.62765957, 0.37234043],\n",
       "       [0.01111111, 0.98888889],\n",
       "       [0.11340206, 0.88659794],\n",
       "       [1.        , 0.        ],\n",
       "       [0.95882353, 0.04117647],\n",
       "       [0.96174863, 0.03825137],\n",
       "       [1.        , 0.        ],\n",
       "       [0.01      , 0.99      ],\n",
       "       [0.        , 1.        ],\n",
       "       [0.41304348, 0.58695652],\n",
       "       [0.82285714, 0.17714286],\n",
       "       [0.        , 1.        ],\n",
       "       [0.        , 1.        ],\n",
       "       [1.        , 0.        ],\n",
       "       [0.02051282, 0.97948718],\n",
       "       [0.        , 1.        ],\n",
       "       [0.94350282, 0.05649718],\n",
       "       [0.        , 1.        ],\n",
       "       [0.24615385, 0.75384615],\n",
       "       [0.        , 1.        ],\n",
       "       [1.        , 0.        ],\n",
       "       [0.        , 1.        ],\n",
       "       [0.        , 1.        ],\n",
       "       [0.97093023, 0.02906977],\n",
       "       [0.87845304, 0.12154696],\n",
       "       [1.        , 0.        ],\n",
       "       [0.        , 1.        ],\n",
       "       [0.05527638, 0.94472362],\n",
       "       [1.        , 0.        ],\n",
       "       [0.        , 1.        ],\n",
       "       [0.        , 1.        ],\n",
       "       [0.05641026, 0.94358974],\n",
       "       [0.99462366, 0.00537634],\n",
       "       [0.77472527, 0.22527473],\n",
       "       [0.        , 1.        ],\n",
       "       [0.87222222, 0.12777778],\n",
       "       [0.99431818, 0.00568182],\n",
       "       [0.21195652, 0.78804348],\n",
       "       [0.26490066, 0.73509934],\n",
       "       [1.        , 0.        ],\n",
       "       [0.        , 1.        ],\n",
       "       [0.        , 1.        ],\n",
       "       [0.        , 1.        ],\n",
       "       [0.24712644, 0.75287356],\n",
       "       [0.93717277, 0.06282723],\n",
       "       [0.00564972, 0.99435028],\n",
       "       [1.        , 0.        ],\n",
       "       [0.99462366, 0.00537634],\n",
       "       [0.        , 1.        ],\n",
       "       [0.55958549, 0.44041451],\n",
       "       [1.        , 0.        ],\n",
       "       [0.        , 1.        ],\n",
       "       [1.        , 0.        ],\n",
       "       [0.        , 1.        ],\n",
       "       [0.        , 1.        ],\n",
       "       [0.08290155, 0.91709845],\n",
       "       [0.15816327, 0.84183673],\n",
       "       [0.98830409, 0.01169591],\n",
       "       [0.01775148, 0.98224852],\n",
       "       [1.        , 0.        ],\n",
       "       [0.38547486, 0.61452514],\n",
       "       [0.15384615, 0.84615385],\n",
       "       [0.51707317, 0.48292683],\n",
       "       [0.61658031, 0.38341969],\n",
       "       [0.        , 1.        ],\n",
       "       [1.        , 0.        ],\n",
       "       [0.        , 1.        ],\n",
       "       [0.        , 1.        ],\n",
       "       [0.6827957 , 0.3172043 ],\n",
       "       [0.        , 1.        ],\n",
       "       [1.        , 0.        ],\n",
       "       [0.29050279, 0.70949721],\n",
       "       [0.80225989, 0.19774011],\n",
       "       [0.08947368, 0.91052632],\n",
       "       [1.        , 0.        ],\n",
       "       [0.8       , 0.2       ],\n",
       "       [0.        , 1.        ],\n",
       "       [0.        , 1.        ],\n",
       "       [0.11111111, 0.88888889],\n",
       "       [0.01754386, 0.98245614],\n",
       "       [0.        , 1.        ],\n",
       "       [1.        , 0.        ],\n",
       "       [0.92513369, 0.07486631],\n",
       "       [0.16580311, 0.83419689],\n",
       "       [0.92934783, 0.07065217],\n",
       "       [0.01081081, 0.98918919],\n",
       "       [0.525     , 0.475     ],\n",
       "       [0.0718232 , 0.9281768 ],\n",
       "       [0.99421965, 0.00578035],\n",
       "       [0.85405405, 0.14594595],\n",
       "       [0.        , 1.        ],\n",
       "       [0.99456522, 0.00543478],\n",
       "       [0.95336788, 0.04663212],\n",
       "       [0.        , 1.        ],\n",
       "       [0.        , 1.        ],\n",
       "       [1.        , 0.        ],\n",
       "       [0.        , 1.        ],\n",
       "       [1.        , 0.        ],\n",
       "       [0.31318681, 0.68681319],\n",
       "       [0.98484848, 0.01515152],\n",
       "       [1.        , 0.        ],\n",
       "       [0.        , 1.        ],\n",
       "       [0.        , 1.        ],\n",
       "       [0.79005525, 0.20994475],\n",
       "       [0.        , 1.        ],\n",
       "       [1.        , 0.        ],\n",
       "       [0.76923077, 0.23076923],\n",
       "       [0.93229167, 0.06770833],\n",
       "       [1.        , 0.        ],\n",
       "       [0.72222222, 0.27777778],\n",
       "       [0.55154639, 0.44845361],\n",
       "       [0.        , 1.        ],\n",
       "       [0.90710383, 0.09289617],\n",
       "       [0.        , 1.        ],\n",
       "       [1.        , 0.        ],\n",
       "       [0.83673469, 0.16326531],\n",
       "       [1.        , 0.        ],\n",
       "       [1.        , 0.        ],\n",
       "       [0.75308642, 0.24691358],\n",
       "       [0.12565445, 0.87434555],\n",
       "       [0.53529412, 0.46470588],\n",
       "       [0.28176796, 0.71823204],\n",
       "       [0.        , 1.        ],\n",
       "       [0.85106383, 0.14893617],\n",
       "       [0.78835979, 0.21164021],\n",
       "       [0.        , 1.        ],\n",
       "       [1.        , 0.        ],\n",
       "       [1.        , 0.        ],\n",
       "       [1.        , 0.        ],\n",
       "       [0.        , 1.        ],\n",
       "       [0.03888889, 0.96111111],\n",
       "       [0.9494382 , 0.0505618 ],\n",
       "       [0.94972067, 0.05027933],\n",
       "       [1.        , 0.        ],\n",
       "       [0.50802139, 0.49197861],\n",
       "       [1.        , 0.        ],\n",
       "       [0.        , 1.        ],\n",
       "       [0.97409326, 0.02590674],\n",
       "       [0.02020202, 0.97979798],\n",
       "       [1.        , 0.        ],\n",
       "       [1.        , 0.        ],\n",
       "       [1.        , 0.        ],\n",
       "       [0.        , 1.        ],\n",
       "       [0.97252747, 0.02747253],\n",
       "       [0.        , 1.        ],\n",
       "       [0.05421687, 0.94578313],\n",
       "       [0.        , 1.        ],\n",
       "       [0.        , 1.        ],\n",
       "       [1.        , 0.        ],\n",
       "       [1.        , 0.        ],\n",
       "       [0.        , 1.        ],\n",
       "       [1.        , 0.        ],\n",
       "       [0.01595745, 0.98404255],\n",
       "       [1.        , 0.        ],\n",
       "       [0.12365591, 0.87634409],\n",
       "       [0.        , 1.        ],\n",
       "       [0.00518135, 0.99481865],\n",
       "       [0.        , 1.        ],\n",
       "       [0.42196532, 0.57803468],\n",
       "       [0.0718232 , 0.9281768 ],\n",
       "       [0.21505376, 0.78494624],\n",
       "       [1.        , 0.        ],\n",
       "       [0.98395722, 0.01604278],\n",
       "       [0.20245399, 0.79754601],\n",
       "       [0.98324022, 0.01675978],\n",
       "       [0.        , 1.        ],\n",
       "       [0.        , 1.        ],\n",
       "       [1.        , 0.        ],\n",
       "       [0.97826087, 0.02173913],\n",
       "       [0.35532995, 0.64467005],\n",
       "       [0.99425287, 0.00574713],\n",
       "       [1.        , 0.        ],\n",
       "       [0.00555556, 0.99444444],\n",
       "       [1.        , 0.        ],\n",
       "       [0.        , 1.        ],\n",
       "       [0.06382979, 0.93617021],\n",
       "       [1.        , 0.        ],\n",
       "       [1.        , 0.        ],\n",
       "       [0.01675978, 0.98324022],\n",
       "       [0.61340206, 0.38659794]])"
      ]
     },
     "execution_count": 42,
     "metadata": {},
     "output_type": "execute_result"
    }
   ],
   "source": [
    "bag_clf.oob_decision_function_"
   ]
  },
  {
   "cell_type": "code",
   "execution_count": 43,
   "metadata": {},
   "outputs": [
    {
     "data": {
      "text/plain": [
       "DecisionTreeClassifier(class_weight=None, criterion='gini', max_depth=None,\n",
       "            max_features=None, max_leaf_nodes=None,\n",
       "            min_impurity_decrease=0.0, min_impurity_split=None,\n",
       "            min_samples_leaf=1, min_samples_split=2,\n",
       "            min_weight_fraction_leaf=0.0, presort=False, random_state=None,\n",
       "            splitter='best')"
      ]
     },
     "execution_count": 43,
     "metadata": {},
     "output_type": "execute_result"
    }
   ],
   "source": [
    "clf=DecisionTreeClassifier()\n",
    "clf.fit(X_train,y_train)"
   ]
  },
  {
   "cell_type": "code",
   "execution_count": 44,
   "metadata": {},
   "outputs": [],
   "source": [
    "bag_clf.fit(X_train,y_train)\n",
    "dot_data = tree.export_graphviz(clf, out_file=None, \n",
    "                         feature_names=['cool','yes'],  \n",
    "                         class_names='shit',)  \n",
    "graph = pydotplus.graph_from_dot_data(dot_data)  \n"
   ]
  },
  {
   "cell_type": "code",
   "execution_count": 45,
   "metadata": {},
   "outputs": [],
   "source": [
    "from IPython.display import Image  \n",
    "from sklearn import tree\n",
    "import pydotplus"
   ]
  },
  {
   "cell_type": "code",
   "execution_count": 46,
   "metadata": {},
   "outputs": [],
   "source": [
    "import matplotlib.pyplot as plt"
   ]
  },
  {
   "cell_type": "code",
   "execution_count": 47,
   "metadata": {},
   "outputs": [
    {
     "name": "stdout",
     "output_type": "stream",
     "text": [
      "Requirement already satisfied: GraphViz in ./anaconda3/lib/python3.6/site-packages (0.8.4)\r\n"
     ]
    }
   ],
   "source": [
    "!pip install GraphViz"
   ]
  },
  {
   "cell_type": "code",
   "execution_count": 50,
   "metadata": {
    "collapsed": true
   },
   "outputs": [
    {
     "ename": "InvocationException",
     "evalue": "GraphViz's executables not found",
     "output_type": "error",
     "traceback": [
      "\u001b[0;31m---------------------------------------------------------------------------\u001b[0m",
      "\u001b[0;31mInvocationException\u001b[0m                       Traceback (most recent call last)",
      "\u001b[0;32m<ipython-input-50-ed1b014201ac>\u001b[0m in \u001b[0;36m<module>\u001b[0;34m()\u001b[0m\n\u001b[0;32m----> 1\u001b[0;31m \u001b[0mImage\u001b[0m\u001b[0;34m(\u001b[0m\u001b[0mdata\u001b[0m\u001b[0;34m=\u001b[0m\u001b[0mgraph\u001b[0m\u001b[0;34m.\u001b[0m\u001b[0mcreate_jpg\u001b[0m\u001b[0;34m(\u001b[0m\u001b[0;34m)\u001b[0m\u001b[0;34m)\u001b[0m\u001b[0;34m\u001b[0m\u001b[0m\n\u001b[0m",
      "\u001b[0;32m~/anaconda3/lib/python3.6/site-packages/pydotplus/graphviz.py\u001b[0m in \u001b[0;36m<lambda>\u001b[0;34m(f, prog)\u001b[0m\n\u001b[1;32m   1795\u001b[0m             self.__setattr__(\n\u001b[1;32m   1796\u001b[0m                 \u001b[0;34m'create_'\u001b[0m \u001b[0;34m+\u001b[0m \u001b[0mfrmt\u001b[0m\u001b[0;34m,\u001b[0m\u001b[0;34m\u001b[0m\u001b[0m\n\u001b[0;32m-> 1797\u001b[0;31m                 \u001b[0;32mlambda\u001b[0m \u001b[0mf\u001b[0m\u001b[0;34m=\u001b[0m\u001b[0mfrmt\u001b[0m\u001b[0;34m,\u001b[0m \u001b[0mprog\u001b[0m\u001b[0;34m=\u001b[0m\u001b[0mself\u001b[0m\u001b[0;34m.\u001b[0m\u001b[0mprog\u001b[0m\u001b[0;34m:\u001b[0m \u001b[0mself\u001b[0m\u001b[0;34m.\u001b[0m\u001b[0mcreate\u001b[0m\u001b[0;34m(\u001b[0m\u001b[0mformat\u001b[0m\u001b[0;34m=\u001b[0m\u001b[0mf\u001b[0m\u001b[0;34m,\u001b[0m \u001b[0mprog\u001b[0m\u001b[0;34m=\u001b[0m\u001b[0mprog\u001b[0m\u001b[0;34m)\u001b[0m\u001b[0;34m\u001b[0m\u001b[0m\n\u001b[0m\u001b[1;32m   1798\u001b[0m             )\n\u001b[1;32m   1799\u001b[0m             \u001b[0mf\u001b[0m \u001b[0;34m=\u001b[0m \u001b[0mself\u001b[0m\u001b[0;34m.\u001b[0m\u001b[0m__dict__\u001b[0m\u001b[0;34m[\u001b[0m\u001b[0;34m'create_'\u001b[0m \u001b[0;34m+\u001b[0m \u001b[0mfrmt\u001b[0m\u001b[0;34m]\u001b[0m\u001b[0;34m\u001b[0m\u001b[0m\n",
      "\u001b[0;32m~/anaconda3/lib/python3.6/site-packages/pydotplus/graphviz.py\u001b[0m in \u001b[0;36mcreate\u001b[0;34m(self, prog, format)\u001b[0m\n\u001b[1;32m   1958\u001b[0m             \u001b[0;32mif\u001b[0m \u001b[0mself\u001b[0m\u001b[0;34m.\u001b[0m\u001b[0mprogs\u001b[0m \u001b[0;32mis\u001b[0m \u001b[0;32mNone\u001b[0m\u001b[0;34m:\u001b[0m\u001b[0;34m\u001b[0m\u001b[0m\n\u001b[1;32m   1959\u001b[0m                 raise InvocationException(\n\u001b[0;32m-> 1960\u001b[0;31m                     'GraphViz\\'s executables not found')\n\u001b[0m\u001b[1;32m   1961\u001b[0m \u001b[0;34m\u001b[0m\u001b[0m\n\u001b[1;32m   1962\u001b[0m         \u001b[0;32mif\u001b[0m \u001b[0mprog\u001b[0m \u001b[0;32mnot\u001b[0m \u001b[0;32min\u001b[0m \u001b[0mself\u001b[0m\u001b[0;34m.\u001b[0m\u001b[0mprogs\u001b[0m\u001b[0;34m:\u001b[0m\u001b[0;34m\u001b[0m\u001b[0m\n",
      "\u001b[0;31mInvocationException\u001b[0m: GraphViz's executables not found"
     ]
    }
   ],
   "source": [
    "Image(data=graph.create_jpg())"
   ]
  },
  {
   "cell_type": "code",
   "execution_count": 49,
   "metadata": {
    "collapsed": true
   },
   "outputs": [
    {
     "name": "stdout",
     "output_type": "stream",
     "text": [
      "Solving environment: done\n",
      "\n",
      "## Package Plan ##\n",
      "\n",
      "  environment location: /Users/jacky/anaconda3\n",
      "\n",
      "  added / updated specs: \n",
      "    - graphviz\n",
      "\n",
      "\n",
      "The following packages will be downloaded:\n",
      "\n",
      "    package                    |            build\n",
      "    ---------------------------|-----------------\n",
      "    cairo-1.14.12              |       he60d9cb_2         1.2 MB\n",
      "    pixman-0.34.0              |       hca0a616_3         597 KB\n",
      "    pango-1.41.0               |       h3bae10e_0         533 KB\n",
      "    fontconfig-2.12.6          |       h9850fc5_0         250 KB\n",
      "    harfbuzz-1.7.6             |       h171471c_1         665 KB\n",
      "    graphviz-2.40.1            |       h0a44026_0         6.7 MB\n",
      "    graphite2-1.3.11           |       h2098e52_2         100 KB\n",
      "    conda-4.5.9                |           py36_0         1.0 MB\n",
      "    ------------------------------------------------------------\n",
      "                                           Total:        11.1 MB\n",
      "\n",
      "The following NEW packages will be INSTALLED:\n",
      "\n",
      "    cairo:      1.14.12-he60d9cb_2\n",
      "    fontconfig: 2.12.6-h9850fc5_0 \n",
      "    graphite2:  1.3.11-h2098e52_2 \n",
      "    graphviz:   2.40.1-h0a44026_0 \n",
      "    harfbuzz:   1.7.6-h171471c_1  \n",
      "    pango:      1.41.0-h3bae10e_0 \n",
      "    pixman:     0.34.0-hca0a616_3 \n",
      "\n",
      "The following packages will be UPDATED:\n",
      "\n",
      "    conda:      4.5.4-py36_0       --> 4.5.9-py36_0\n",
      "\n",
      "Proceed ([y]/n)? ^C\n"
     ]
    }
   ],
   "source": [
    "!conda install graphviz"
   ]
  },
  {
   "cell_type": "code",
   "execution_count": 51,
   "metadata": {},
   "outputs": [],
   "source": [
    "from sklearn.ensemble import RandomForestClassifier\n",
    "rnd_clf=RandomForestClassifier(n_estimators=500,max_leaf_nodes=16,n_jobs=-1)\n",
    "rnd_clf.fit(X_train,y_train)\n",
    "y_pred_rd=rnd_clf.predict(X_test)"
   ]
  },
  {
   "cell_type": "code",
   "execution_count": 57,
   "metadata": {},
   "outputs": [],
   "source": [
    "bag_clf=BaggingClassifier(\n",
    "            DecisionTreeClassifier(splitter='random',max_leaf_nodes=16),\n",
    "            n_estimators=500,max_samples=1,bootstrap=True,n_jobs=-1)"
   ]
  },
  {
   "cell_type": "code",
   "execution_count": 59,
   "metadata": {},
   "outputs": [
    {
     "name": "stdout",
     "output_type": "stream",
     "text": [
      "sepal length (cm) 0.0956510408833508\n",
      "sepal width (cm) 0.02208750030951453\n",
      "petal length (cm) 0.4528634074370998\n",
      "petal width (cm) 0.4293980513700354\n"
     ]
    }
   ],
   "source": [
    "from sklearn.datasets import load_iris\n",
    "iris=load_iris()\n",
    "rnd_clf=RandomForestClassifier(n_estimators=500,n_jobs=-1)\n",
    "rnd_clf.fit(iris['data'],iris['target'])\n",
    "for name,score in zip(iris['feature_names'],rnd_clf.feature_importances_):\n",
    "    print(name,score)"
   ]
  },
  {
   "cell_type": "code",
   "execution_count": 61,
   "metadata": {},
   "outputs": [],
   "source": [
    "data=rnd_clf.feature_importances_"
   ]
  },
  {
   "cell_type": "code",
   "execution_count": 73,
   "metadata": {},
   "outputs": [
    {
     "data": {
      "text/plain": [
       "(-0.5, 1.5, 1.5, -0.5)"
      ]
     },
     "execution_count": 73,
     "metadata": {},
     "output_type": "execute_result"
    },
    {
     "data": {
      "image/png": "[encoded data removed]",
      "text/plain": [
       "<Figure size 432x288 with 2 Axes>"
      ]
     },
     "metadata": {},
     "output_type": "display_data"
    }
   ],
   "source": [
    "plt.imshow(data.reshape(2,2),cmap = plt.cm.jet)\n",
    "cbar=plt.colorbar(ticks=[rnd_clf.feature_importances_.min(),rnd_clf.feature_importances_.max()])\n",
    "cbar.ax.set_yticklabels(['not important','important'])\n",
    "plt.axis('off')"
   ]
  },
  {
   "cell_type": "code",
   "execution_count": 75,
   "metadata": {},
   "outputs": [],
   "source": [
    "from sklearn.ensemble import AdaBoostClassifier\n",
    "ada_clf=AdaBoostClassifier(\n",
    "            DecisionTreeClassifier(max_depth=1),n_estimators=200,\n",
    "            algorithm='SAMME.R',learning_rate=0.5)"
   ]
  },
  {
   "cell_type": "code",
   "execution_count": 76,
   "metadata": {},
   "outputs": [
    {
     "data": {
      "text/plain": [
       "AdaBoostClassifier(algorithm='SAMME.R',\n",
       "          base_estimator=DecisionTreeClassifier(class_weight=None, criterion='gini', max_depth=1,\n",
       "            max_features=None, max_leaf_nodes=None,\n",
       "            min_impurity_decrease=0.0, min_impurity_split=None,\n",
       "            min_samples_leaf=1, min_samples_split=2,\n",
       "            min_weight_fraction_leaf=0.0, presort=False, random_state=None,\n",
       "            splitter='best'),\n",
       "          learning_rate=0.5, n_estimators=200, random_state=None)"
      ]
     },
     "execution_count": 76,
     "metadata": {},
     "output_type": "execute_result"
    }
   ],
   "source": [
    "ada_clf.fit(X_train,y_train)"
   ]
  },
  {
   "cell_type": "code",
   "execution_count": 78,
   "metadata": {},
   "outputs": [
    {
     "data": {
      "text/plain": [
       "0.896"
      ]
     },
     "execution_count": 78,
     "metadata": {},
     "output_type": "execute_result"
    }
   ],
   "source": [
    "accuracy_score(y_test,ada_clf.predict(X_test))"
   ]
  },
  {
   "cell_type": "code",
   "execution_count": 79,
   "metadata": {},
   "outputs": [],
   "source": [
    "from sklearn.tree import DecisionTreeRegressor"
   ]
  },
  {
   "cell_type": "code",
   "execution_count": 80,
   "metadata": {},
   "outputs": [
    {
     "data": {
      "text/plain": [
       "DecisionTreeRegressor(criterion='mse', max_depth=2, max_features=None,\n",
       "           max_leaf_nodes=None, min_impurity_decrease=0.0,\n",
       "           min_impurity_split=None, min_samples_leaf=1,\n",
       "           min_samples_split=2, min_weight_fraction_leaf=0.0,\n",
       "           presort=False, random_state=None, splitter='best')"
      ]
     },
     "execution_count": 80,
     "metadata": {},
     "output_type": "execute_result"
    }
   ],
   "source": [
    "tree_reg1=DecisionTreeRegressor(max_depth=2)\n",
    "tree_reg1.fit(X,y)"
   ]
  },
  {
   "cell_type": "code",
   "execution_count": 81,
   "metadata": {},
   "outputs": [
    {
     "data": {
      "text/plain": [
       "DecisionTreeRegressor(criterion='mse', max_depth=2, max_features=None,\n",
       "           max_leaf_nodes=None, min_impurity_decrease=0.0,\n",
       "           min_impurity_split=None, min_samples_leaf=1,\n",
       "           min_samples_split=2, min_weight_fraction_leaf=0.0,\n",
       "           presort=False, random_state=None, splitter='best')"
      ]
     },
     "execution_count": 81,
     "metadata": {},
     "output_type": "execute_result"
    }
   ],
   "source": [
    "y2=y-tree_reg1.predict(X)\n",
    "tree_reg2=DecisionTreeRegressor(max_depth=2)\n",
    "tree_reg2.fit(X,y2)"
   ]
  },
  {
   "cell_type": "code",
   "execution_count": 82,
   "metadata": {},
   "outputs": [
    {
     "data": {
      "text/plain": [
       "DecisionTreeRegressor(criterion='mse', max_depth=2, max_features=None,\n",
       "           max_leaf_nodes=None, min_impurity_decrease=0.0,\n",
       "           min_impurity_split=None, min_samples_leaf=1,\n",
       "           min_samples_split=2, min_weight_fraction_leaf=0.0,\n",
       "           presort=False, random_state=None, splitter='best')"
      ]
     },
     "execution_count": 82,
     "metadata": {},
     "output_type": "execute_result"
    }
   ],
   "source": [
    "y3=y2-tree_reg2.predict(X)\n",
    "tree_reg3=DecisionTreeRegressor(max_depth=2)\n",
    "tree_reg2.fit(X,y3)"
   ]
  },
  {
   "cell_type": "code",
   "execution_count": 85,
   "metadata": {},
   "outputs": [],
   "source": [
    "import numpy as np\n",
    "X_new = np.array([[0.8]])"
   ]
  },
  {
   "cell_type": "code",
   "execution_count": 86,
   "metadata": {
    "collapsed": true
   },
   "outputs": [
    {
     "ename": "ValueError",
     "evalue": "Number of features of the model must match the input. Model n_features is 2 and input n_features is 1 ",
     "output_type": "error",
     "traceback": [
      "\u001b[0;31m---------------------------------------------------------------------------\u001b[0m",
      "\u001b[0;31mValueError\u001b[0m                                Traceback (most recent call last)",
      "\u001b[0;32m<ipython-input-86-e9801bfe54ea>\u001b[0m in \u001b[0;36m<module>\u001b[0;34m()\u001b[0m\n\u001b[0;32m----> 1\u001b[0;31m \u001b[0my_pred\u001b[0m \u001b[0;34m=\u001b[0m \u001b[0msum\u001b[0m\u001b[0;34m(\u001b[0m\u001b[0mtree\u001b[0m\u001b[0;34m.\u001b[0m\u001b[0mpredict\u001b[0m\u001b[0;34m(\u001b[0m\u001b[0mX_new\u001b[0m\u001b[0;34m)\u001b[0m \u001b[0;32mfor\u001b[0m \u001b[0mtree\u001b[0m \u001b[0;32min\u001b[0m \u001b[0;34m(\u001b[0m\u001b[0mtree_reg1\u001b[0m\u001b[0;34m,\u001b[0m \u001b[0mtree_reg2\u001b[0m\u001b[0;34m,\u001b[0m \u001b[0mtree_reg3\u001b[0m\u001b[0;34m)\u001b[0m\u001b[0;34m)\u001b[0m\u001b[0;34m\u001b[0m\u001b[0m\n\u001b[0m",
      "\u001b[0;32m<ipython-input-86-e9801bfe54ea>\u001b[0m in \u001b[0;36m<genexpr>\u001b[0;34m(.0)\u001b[0m\n\u001b[0;32m----> 1\u001b[0;31m \u001b[0my_pred\u001b[0m \u001b[0;34m=\u001b[0m \u001b[0msum\u001b[0m\u001b[0;34m(\u001b[0m\u001b[0mtree\u001b[0m\u001b[0;34m.\u001b[0m\u001b[0mpredict\u001b[0m\u001b[0;34m(\u001b[0m\u001b[0mX_new\u001b[0m\u001b[0;34m)\u001b[0m \u001b[0;32mfor\u001b[0m \u001b[0mtree\u001b[0m \u001b[0;32min\u001b[0m \u001b[0;34m(\u001b[0m\u001b[0mtree_reg1\u001b[0m\u001b[0;34m,\u001b[0m \u001b[0mtree_reg2\u001b[0m\u001b[0;34m,\u001b[0m \u001b[0mtree_reg3\u001b[0m\u001b[0;34m)\u001b[0m\u001b[0;34m)\u001b[0m\u001b[0;34m\u001b[0m\u001b[0m\n\u001b[0m",
      "\u001b[0;32m~/anaconda3/lib/python3.6/site-packages/sklearn/tree/tree.py\u001b[0m in \u001b[0;36mpredict\u001b[0;34m(self, X, check_input)\u001b[0m\n\u001b[1;32m    410\u001b[0m         \"\"\"\n\u001b[1;32m    411\u001b[0m         \u001b[0mcheck_is_fitted\u001b[0m\u001b[0;34m(\u001b[0m\u001b[0mself\u001b[0m\u001b[0;34m,\u001b[0m \u001b[0;34m'tree_'\u001b[0m\u001b[0;34m)\u001b[0m\u001b[0;34m\u001b[0m\u001b[0m\n\u001b[0;32m--> 412\u001b[0;31m         \u001b[0mX\u001b[0m \u001b[0;34m=\u001b[0m \u001b[0mself\u001b[0m\u001b[0;34m.\u001b[0m\u001b[0m_validate_X_predict\u001b[0m\u001b[0;34m(\u001b[0m\u001b[0mX\u001b[0m\u001b[0;34m,\u001b[0m \u001b[0mcheck_input\u001b[0m\u001b[0;34m)\u001b[0m\u001b[0;34m\u001b[0m\u001b[0m\n\u001b[0m\u001b[1;32m    413\u001b[0m         \u001b[0mproba\u001b[0m \u001b[0;34m=\u001b[0m \u001b[0mself\u001b[0m\u001b[0;34m.\u001b[0m\u001b[0mtree_\u001b[0m\u001b[0;34m.\u001b[0m\u001b[0mpredict\u001b[0m\u001b[0;34m(\u001b[0m\u001b[0mX\u001b[0m\u001b[0;34m)\u001b[0m\u001b[0;34m\u001b[0m\u001b[0m\n\u001b[1;32m    414\u001b[0m         \u001b[0mn_samples\u001b[0m \u001b[0;34m=\u001b[0m \u001b[0mX\u001b[0m\u001b[0;34m.\u001b[0m\u001b[0mshape\u001b[0m\u001b[0;34m[\u001b[0m\u001b[0;36m0\u001b[0m\u001b[0;34m]\u001b[0m\u001b[0;34m\u001b[0m\u001b[0m\n",
      "\u001b[0;32m~/anaconda3/lib/python3.6/site-packages/sklearn/tree/tree.py\u001b[0m in \u001b[0;36m_validate_X_predict\u001b[0;34m(self, X, check_input)\u001b[0m\n\u001b[1;32m    382\u001b[0m                              \u001b[0;34m\"match the input. Model n_features is %s and \"\u001b[0m\u001b[0;34m\u001b[0m\u001b[0m\n\u001b[1;32m    383\u001b[0m                              \u001b[0;34m\"input n_features is %s \"\u001b[0m\u001b[0;34m\u001b[0m\u001b[0m\n\u001b[0;32m--> 384\u001b[0;31m                              % (self.n_features_, n_features))\n\u001b[0m\u001b[1;32m    385\u001b[0m \u001b[0;34m\u001b[0m\u001b[0m\n\u001b[1;32m    386\u001b[0m         \u001b[0;32mreturn\u001b[0m \u001b[0mX\u001b[0m\u001b[0;34m\u001b[0m\u001b[0m\n",
      "\u001b[0;31mValueError\u001b[0m: Number of features of the model must match the input. Model n_features is 2 and input n_features is 1 "
     ]
    }
   ],
   "source": [
    "y_pred = sum(tree.predict(X_new) for tree in (tree_reg1, tree_reg2, tree_reg3))\n"
   ]
  },
  {
   "cell_type": "code",
   "execution_count": 89,
   "metadata": {
    "collapsed": true
   },
   "outputs": [
    {
     "data": {
      "text/plain": [
       "array([ 0.08691406, -0.0774321 ,  0.0015625 , -0.0774321 , -0.0774321 ,\n",
       "        0.0015625 ,  0.08691406, -0.0774321 , -0.0774321 ,  0.0015625 ,\n",
       "       -0.71209239, -0.71209239,  0.0015625 , -0.0774321 ,  0.0015625 ,\n",
       "        0.0015625 ,  0.28790761, -0.0774321 ,  0.0015625 ,  0.08691406,\n",
       "        0.28790761, -0.00426136,  0.28790761,  0.08691406, -0.0774321 ,\n",
       "       -0.00426136,  0.28790761, -0.0774321 , -0.0774321 ,  0.0015625 ,\n",
       "        0.28790761,  0.08691406,  0.28790761, -0.0774321 , -0.0774321 ,\n",
       "        0.0015625 ,  0.0015625 , -0.0774321 , -0.0774321 , -0.0774321 ,\n",
       "        0.0015625 , -0.0774321 , -0.00426136,  0.14728261, -0.71209239,\n",
       "       -0.0774321 , -0.71209239, -0.0774321 ,  0.0015625 , -0.71209239,\n",
       "       -0.0774321 , -0.0774321 , -0.0774321 ,  0.08691406, -0.0774321 ,\n",
       "       -0.0774321 , -0.0774321 , -0.71209239, -0.0774321 , -0.0774321 ,\n",
       "        0.28790761,  0.28790761,  0.08691406,  0.08691406, -0.0774321 ,\n",
       "       -0.0774321 ,  0.28790761, -0.0774321 ,  0.14728261,  0.0015625 ,\n",
       "        0.0015625 ,  0.0015625 ,  0.28790761,  0.9225679 ,  0.08691406,\n",
       "        0.28790761,  0.9225679 , -0.0774321 ,  0.08691406,  0.28790761,\n",
       "       -0.0774321 , -0.0774321 , -0.00426136, -0.0774321 ,  0.08691406,\n",
       "       -0.0774321 , -0.0774321 ,  0.28790761,  0.08691406,  0.9225679 ,\n",
       "        0.08691406,  0.28790761,  0.28790761,  0.08691406,  0.28790761,\n",
       "        0.0015625 , -0.71209239, -0.0774321 ,  0.0015625 , -0.71209239,\n",
       "        0.14728261,  0.08691406, -0.0774321 ,  0.28790761,  0.0015625 ,\n",
       "       -0.0774321 ,  0.08691406,  0.14728261,  0.0015625 , -0.0774321 ,\n",
       "       -0.0774321 ,  0.08691406,  0.0015625 , -0.71209239,  0.28790761,\n",
       "        0.08691406,  0.14728261, -0.05371094, -0.0774321 , -0.71209239,\n",
       "       -0.0774321 ,  0.14728261,  0.0015625 , -0.0774321 , -0.0774321 ,\n",
       "       -0.0774321 ,  0.0015625 , -0.0774321 , -0.0774321 ,  0.0015625 ,\n",
       "       -0.91308594, -0.0774321 ,  0.28790761,  0.9225679 , -0.0774321 ,\n",
       "       -0.0774321 , -0.0774321 , -0.0774321 , -0.71209239,  0.28790761,\n",
       "       -0.71209239, -0.05371094, -0.00426136, -0.0774321 ,  0.28790761,\n",
       "        0.13636364, -0.0774321 ,  0.14728261,  0.28790761,  0.08691406,\n",
       "       -0.71209239, -0.0774321 , -0.71209239, -0.0774321 ,  0.28790761,\n",
       "        0.0015625 , -0.71209239, -0.0774321 ,  0.08691406, -0.71209239,\n",
       "       -0.0774321 ,  0.0015625 ,  0.08691406, -0.0774321 ,  0.28790761,\n",
       "        0.13636364, -0.71209239, -0.0774321 ,  0.28790761, -0.0774321 ,\n",
       "       -0.71209239, -0.0774321 ,  0.28790761, -0.0774321 , -0.0774321 ,\n",
       "       -0.0774321 ,  0.0015625 , -0.0774321 , -0.0774321 ,  0.0015625 ,\n",
       "        0.08691406, -0.0774321 ,  0.0015625 ,  0.08691406,  0.0015625 ,\n",
       "       -0.0774321 ,  0.0015625 , -0.0774321 , -0.0774321 , -0.0774321 ,\n",
       "       -0.00426136,  0.0015625 ,  0.0015625 ,  0.28790761, -0.0774321 ,\n",
       "       -0.05371094, -0.0774321 , -0.0774321 , -0.0774321 ,  0.0015625 ,\n",
       "        0.0015625 , -0.0774321 , -0.1390625 , -0.0774321 , -0.0774321 ,\n",
       "        0.14728261, -0.0774321 , -0.91308594,  0.28790761,  0.0015625 ,\n",
       "        0.9225679 , -0.0774321 ,  0.0015625 ,  0.08691406,  0.9225679 ,\n",
       "        0.0015625 ,  0.08691406, -0.0774321 ,  0.0015625 ,  0.14728261,\n",
       "        0.0015625 ,  0.13636364, -0.0774321 , -0.0774321 , -0.0774321 ,\n",
       "        0.0015625 , -0.00426136,  0.28790761,  0.28790761, -0.0774321 ,\n",
       "       -0.0774321 , -0.0774321 ,  0.08691406, -0.0774321 ,  0.0015625 ,\n",
       "        0.0015625 ,  0.08691406, -0.0774321 , -0.0774321 , -0.0774321 ,\n",
       "        0.0015625 , -0.0774321 ,  0.08691406, -0.91308594,  0.0015625 ,\n",
       "       -0.0774321 , -0.0774321 , -0.0774321 ,  0.08691406, -0.0774321 ,\n",
       "        0.28790761,  0.28790761,  0.28790761,  0.14728261,  0.0015625 ,\n",
       "        0.0015625 , -0.0774321 ,  0.0015625 , -0.0774321 ,  0.13636364,\n",
       "        0.28790761, -0.0774321 ,  0.08691406, -0.0774321 , -0.0774321 ,\n",
       "       -0.0774321 ,  0.28790761, -0.0774321 ,  0.0015625 , -0.0774321 ,\n",
       "       -0.0774321 , -0.0774321 ,  0.14728261,  0.0015625 ,  0.28790761,\n",
       "        0.0015625 ,  0.0015625 ,  0.28790761,  0.0015625 , -0.0774321 ,\n",
       "        0.28790761, -0.0774321 ,  0.28790761, -0.00426136, -0.0774321 ,\n",
       "        0.0015625 ,  0.28790761,  0.08691406,  0.0015625 ,  0.28790761,\n",
       "        0.08691406,  0.28790761,  0.0015625 ,  0.08691406, -0.0774321 ,\n",
       "       -0.0774321 ,  0.08691406,  0.0015625 ,  0.28790761,  0.28790761,\n",
       "        0.28790761, -0.05371094,  0.9225679 , -0.00426136, -0.0774321 ,\n",
       "       -0.0774321 ,  0.9225679 , -0.0774321 , -0.0774321 , -0.0774321 ,\n",
       "        0.0015625 , -0.0774321 ,  0.0015625 ,  0.0015625 , -0.0774321 ,\n",
       "        0.28790761,  0.28790761, -0.0774321 ,  0.0015625 ,  0.0015625 ,\n",
       "       -0.0774321 ,  0.08691406, -0.0774321 ,  0.28790761, -0.0774321 ,\n",
       "        0.28790761, -0.0774321 ,  0.14728261, -0.0774321 ,  0.0015625 ,\n",
       "       -0.0774321 , -0.71209239, -0.0774321 , -0.71209239, -0.0774321 ,\n",
       "       -0.0774321 ,  0.0015625 ,  0.28790761,  0.14728261, -0.0774321 ,\n",
       "       -0.0774321 , -0.0774321 , -0.00426136,  0.0015625 , -0.0774321 ,\n",
       "       -0.71209239, -0.00426136,  0.08691406, -0.0774321 ,  0.28790761,\n",
       "        0.28790761,  0.0015625 , -0.71209239,  0.28790761,  0.28790761,\n",
       "       -0.0774321 ,  0.14728261,  0.0015625 , -0.0774321 , -0.0774321 ,\n",
       "       -0.0774321 ,  0.28790761, -0.0774321 , -0.0774321 , -0.0774321 ,\n",
       "       -0.71209239,  0.28790761,  0.0015625 , -0.0774321 ,  0.08691406,\n",
       "       -0.0774321 ,  0.28790761,  0.14728261,  0.9225679 ,  0.9225679 ,\n",
       "       -0.0774321 ,  0.28790761, -0.0774321 , -0.0774321 , -0.0774321 ,\n",
       "       -0.0774321 ,  0.0015625 , -0.71209239,  0.08691406,  0.9225679 ,\n",
       "       -0.0774321 ,  0.08691406, -0.91308594, -0.0774321 , -0.0774321 ,\n",
       "        0.08691406, -0.00426136, -0.00426136, -0.0774321 ,  0.08691406,\n",
       "        0.08691406,  0.0015625 ,  0.0015625 , -0.00426136, -0.0774321 ,\n",
       "       -0.0774321 ,  0.0015625 ,  0.28790761,  0.9225679 ,  0.08691406,\n",
       "       -0.00426136,  0.08691406,  0.0015625 ,  0.9225679 , -0.0774321 ,\n",
       "       -0.0774321 , -0.71209239, -0.71209239,  0.0015625 , -0.0774321 ,\n",
       "        0.0015625 ,  0.08691406, -0.71209239, -0.0774321 ,  0.0015625 ,\n",
       "       -0.0774321 ,  0.08691406,  0.28790761, -0.0774321 ,  0.08691406,\n",
       "       -0.71209239, -0.0774321 , -0.0774321 ,  0.13636364,  0.08691406,\n",
       "        0.0015625 , -0.0774321 ,  0.0015625 ,  0.28790761, -0.0774321 ,\n",
       "        0.0015625 ,  0.13636364, -0.0774321 , -0.0774321 ,  0.0015625 ,\n",
       "       -0.0774321 ,  0.0015625 ,  0.28790761, -0.0774321 ,  0.08691406,\n",
       "       -0.00426136, -0.0774321 ,  0.0015625 , -0.00426136,  0.0015625 ,\n",
       "       -0.0774321 , -0.0774321 ,  0.0015625 , -0.0774321 ,  0.28790761,\n",
       "       -0.0774321 ,  0.08691406, -0.0774321 , -0.00426136, -0.0774321 ,\n",
       "       -0.0774321 , -0.0774321 , -0.0774321 ,  0.0015625 , -0.71209239,\n",
       "        0.9225679 , -0.71209239,  0.28790761,  0.28790761, -0.0774321 ,\n",
       "        0.08691406,  0.28790761, -0.0774321 ,  0.0015625 ,  0.9225679 ,\n",
       "        0.08691406,  0.08691406,  0.13636364,  0.28790761, -0.0774321 ,\n",
       "       -0.0774321 , -0.0774321 ,  0.0015625 , -0.0774321 ,  0.0015625 ,\n",
       "       -0.71209239,  0.08691406,  0.0015625 , -0.0774321 ,  0.28790761,\n",
       "       -0.0774321 , -0.00426136, -0.91308594, -0.0774321 , -0.0774321 ,\n",
       "       -0.0774321 ,  0.08691406,  0.28790761,  0.0015625 , -0.0774321 ])"
      ]
     },
     "execution_count": 89,
     "metadata": {},
     "output_type": "execute_result"
    }
   ],
   "source": [
    "y3"
   ]
  },
  {
   "cell_type": "code",
   "execution_count": 90,
   "metadata": {},
   "outputs": [
    {
     "data": {
      "text/plain": [
       "GradientBoostingRegressor(alpha=0.9, criterion='friedman_mse', init=None,\n",
       "             learning_rate=1, loss='ls', max_depth=2, max_features=None,\n",
       "             max_leaf_nodes=None, min_impurity_decrease=0.0,\n",
       "             min_impurity_split=None, min_samples_leaf=1,\n",
       "             min_samples_split=2, min_weight_fraction_leaf=0.0,\n",
       "             n_estimators=3, presort='auto', random_state=None,\n",
       "             subsample=1.0, verbose=0, warm_start=False)"
      ]
     },
     "execution_count": 90,
     "metadata": {},
     "output_type": "execute_result"
    }
   ],
   "source": [
    "from sklearn.ensemble import GradientBoostingRegressor\n",
    "gbrt=GradientBoostingRegressor(max_depth=2,n_estimators=3,learning_rate=1)\n",
    "gbrt.fit(X,y)"
   ]
  },
  {
   "cell_type": "code",
   "execution_count": 92,
   "metadata": {},
   "outputs": [],
   "source": [
    "BaggingClassifier??"
   ]
  },
  {
   "cell_type": "code",
   "execution_count": 93,
   "metadata": {},
   "outputs": [],
   "source": [
    "GradientBoostingRegressor??"
   ]
  },
  {
   "cell_type": "code",
   "execution_count": 94,
   "metadata": {},
   "outputs": [],
   "source": [
    "from sklearn.model_selection import train_test_split\n",
    "from sklearn.metrics import mean_squared_error"
   ]
  },
  {
   "cell_type": "code",
   "execution_count": 95,
   "metadata": {},
   "outputs": [
    {
     "data": {
      "text/plain": [
       "GradientBoostingRegressor(alpha=0.9, criterion='friedman_mse', init=None,\n",
       "             learning_rate=0.1, loss='ls', max_depth=2, max_features=None,\n",
       "             max_leaf_nodes=None, min_impurity_decrease=0.0,\n",
       "             min_impurity_split=None, min_samples_leaf=1,\n",
       "             min_samples_split=2, min_weight_fraction_leaf=0.0,\n",
       "             n_estimators=120, presort='auto', random_state=None,\n",
       "             subsample=1.0, verbose=0, warm_start=False)"
      ]
     },
     "execution_count": 95,
     "metadata": {},
     "output_type": "execute_result"
    }
   ],
   "source": [
    "x_train,x_val,y_train,y_val=train_test_split(X,y)\n",
    "gbrt=GradientBoostingRegressor(max_depth=2,n_estimators=120)\n",
    "gbrt.fit(x_train,y_train)"
   ]
  },
  {
   "cell_type": "code",
   "execution_count": 97,
   "metadata": {},
   "outputs": [
    {
     "data": {
      "text/plain": [
       "GradientBoostingRegressor(alpha=0.9, criterion='friedman_mse', init=None,\n",
       "             learning_rate=0.1, loss='ls', max_depth=2, max_features=None,\n",
       "             max_leaf_nodes=None, min_impurity_decrease=0.0,\n",
       "             min_impurity_split=None, min_samples_leaf=1,\n",
       "             min_samples_split=2, min_weight_fraction_leaf=0.0,\n",
       "             n_estimators=97, presort='auto', random_state=None,\n",
       "             subsample=1.0, verbose=0, warm_start=False)"
      ]
     },
     "execution_count": 97,
     "metadata": {},
     "output_type": "execute_result"
    }
   ],
   "source": [
    "#找到最佳的optimal tree數量\n",
    "errors=[mean_squared_error(y_val,y_pred) for y_pred in gbrt.staged_predict(x_val)]\n",
    "bst_n_estimators=np.argmin(errors)\n",
    "gbrt_best=GradientBoostingRegressor(max_depth=2,\n",
    "                                    n_estimators=bst_n_estimators)\n",
    "gbrt_best.fit(x_train,y_train)"
   ]
  },
  {
   "cell_type": "code",
   "execution_count": 99,
   "metadata": {},
   "outputs": [],
   "source": [
    "Predict regression target at each stage for X"
   ]
  },
  {
   "cell_type": "code",
   "execution_count": null,
   "metadata": {},
   "outputs": [],
   "source": []
  }
 ],
 "metadata": {
  "kernelspec": {
   "display_name": "Python 3",
   "language": "python",
   "name": "python3"
  },
  "language_info": {
   "codemirror_mode": {
    "name": "ipython",
    "version": 3
   },
   "file_extension": ".py",
   "mimetype": "text/x-python",
   "name": "python",
   "nbconvert_exporter": "python",
   "pygments_lexer": "ipython3",
   "version": "3.7.0"
  }
 },
 "nbformat": 4,
 "nbformat_minor": 2
}
